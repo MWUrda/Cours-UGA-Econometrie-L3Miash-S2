{
 "cells": [
  {
   "attachments": {},
   "cell_type": "markdown",
   "metadata": {},
   "source": [
    "# <center> ÉCONOMÉTRIE S2 L3 MIASH</center>\n",
    "## <center> TRAVAIL No 1 : </center>\n",
    "## <center> RÉGRESSION LINÉAIRE </center>\n",
    "#### <center>Michal Urdanivia (UGA)</center>\n",
    "#### <center> michal.wong-urdanivia@univ-grenoble-alpes.fr </center>"
   ]
  },
  {
   "cell_type": "code",
   "execution_count": 1,
   "metadata": {},
   "outputs": [],
   "source": [
    "import pandas as pd\n",
    "import statsmodels.api as sm"
   ]
  },
  {
   "attachments": {},
   "cell_type": "markdown",
   "metadata": {},
   "source": [
    "Dictionnaire des données: http://fmwww.bc.edu/ec-p/data/wooldridge/kielmc.des"
   ]
  },
  {
   "cell_type": "code",
   "execution_count": 2,
   "metadata": {},
   "outputs": [
    {
     "name": "stdout",
     "output_type": "stream",
     "text": [
      "<class 'pandas.core.frame.DataFrame'>\n",
      "Int64Index: 321 entries, 0 to 320\n",
      "Data columns (total 19 columns):\n",
      " #   Column    Non-Null Count  Dtype  \n",
      "---  ------    --------------  -----  \n",
      " 0   year      321 non-null    int16  \n",
      " 1   age       321 non-null    int16  \n",
      " 2   agesq     321 non-null    float32\n",
      " 3   nbh       321 non-null    int8   \n",
      " 4   cbd       321 non-null    float32\n",
      " 5   intst     321 non-null    float32\n",
      " 6   lintst    321 non-null    float32\n",
      " 7   price     321 non-null    float32\n",
      " 8   rooms     321 non-null    int8   \n",
      " 9   area      321 non-null    int16  \n",
      " 10  land      321 non-null    float32\n",
      " 11  baths     321 non-null    int8   \n",
      " 12  dist      321 non-null    float32\n",
      " 13  ldist     321 non-null    float32\n",
      " 14  lprice    321 non-null    float32\n",
      " 15  y81       321 non-null    int8   \n",
      " 16  larea     321 non-null    float32\n",
      " 17  lland     321 non-null    float32\n",
      " 18  lintstsq  321 non-null    float32\n",
      "dtypes: float32(12), int16(3), int8(4)\n",
      "memory usage: 20.7 KB\n"
     ]
    }
   ],
   "source": [
    "url = 'https://www.stata.com/data/jwooldridge/eacsap/hprice.dta'\n",
    "kieldat = pd.read_stata(url)\n",
    "kieldat.info()"
   ]
  },
  {
   "cell_type": "code",
   "execution_count": 3,
   "metadata": {},
   "outputs": [
    {
     "name": "stdout",
     "output_type": "stream",
     "text": [
      "                            OLS Regression Results                            \n",
      "==============================================================================\n",
      "Dep. Variable:                 lprice   R-squared:                       0.120\n",
      "Model:                            OLS   Adj. R-squared:                  0.117\n",
      "Method:                 Least Squares   F-statistic:                     43.48\n",
      "Date:                Tue, 28 Feb 2023   Prob (F-statistic):           1.78e-10\n",
      "Time:                        09:22:05   Log-Likelihood:                -169.60\n",
      "No. Observations:                 321   AIC:                             343.2\n",
      "Df Residuals:                     319   BIC:                             350.7\n",
      "Df Model:                           1                                         \n",
      "Covariance Type:            nonrobust                                         \n",
      "==============================================================================\n",
      "                 coef    std err          t      P>|t|      [0.025      0.975]\n",
      "------------------------------------------------------------------------------\n",
      "const          8.2575      0.474     17.427      0.000       7.325       9.190\n",
      "ldist          0.3172      0.048      6.594      0.000       0.223       0.412\n",
      "==============================================================================\n",
      "Omnibus:                        3.073   Durbin-Watson:                   0.944\n",
      "Prob(Omnibus):                  0.215   Jarque-Bera (JB):                2.868\n",
      "Skew:                           0.228   Prob(JB):                        0.238\n",
      "Kurtosis:                       3.079   Cond. No.                         205.\n",
      "==============================================================================\n",
      "\n",
      "Notes:\n",
      "[1] Standard Errors assume that the covariance matrix of the errors is correctly specified.\n"
     ]
    }
   ],
   "source": [
    "kieldat.head() #Affichage des première lignes.\n",
    "kieldat.describe() # Quelques statistiques descriptives.\n",
    "\n",
    "\n",
    "\n",
    "kieldat[\"const\"] = 1\n",
    "## On utilise la fonction OLS dans Statsmodels.\n",
    "linreg = sm.OLS(endog = kieldat['lprice'], exog = kieldat[['const', 'ldist']], missing = 'drop')\n",
    "## Ci-dessus le modèle a été construit. Pour l'estimer on utilise \".fit()\" ci-après:\n",
    "results = linreg.fit()\n",
    "## Pour avoir un résumé des résultats on peut utiliser \".summary()\" comme ici:\n",
    "print(results.summary())"
   ]
  }
 ],
 "metadata": {
  "kernelspec": {
   "display_name": "base",
   "language": "python",
   "name": "python3"
  },
  "language_info": {
   "codemirror_mode": {
    "name": "ipython",
    "version": 3
   },
   "file_extension": ".py",
   "mimetype": "text/x-python",
   "name": "python",
   "nbconvert_exporter": "python",
   "pygments_lexer": "ipython3",
   "version": "3.8.8"
  },
  "orig_nbformat": 4,
  "vscode": {
   "interpreter": {
    "hash": "8a894924a8054982a5c897c02f36d019274ceaf42c853aa8fb1f2ffcb169480b"
   }
  }
 },
 "nbformat": 4,
 "nbformat_minor": 2
}
